{
 "cells": [
  {
   "cell_type": "code",
   "execution_count": 1,
   "metadata": {},
   "outputs": [
    {
     "name": "stdout",
     "output_type": "stream",
     "text": [
      "--2024-06-15 10:42:45--  https://raw.githubusercontent.com/karpathy/char-rnn/master/data/tinyshakespeare/input.txt\n",
      "Resolving raw.githubusercontent.com (raw.githubusercontent.com)... 2606:50c0:8001::154, 2606:50c0:8003::154, 2606:50c0:8002::154, ...\n",
      "Connecting to raw.githubusercontent.com (raw.githubusercontent.com)|2606:50c0:8001::154|:443... connected.\n",
      "HTTP request sent, awaiting response... 200 OK\n",
      "Length: 1115394 (1.1M) [text/plain]\n",
      "Saving to: ‘input.txt.3’\n",
      "\n",
      "input.txt.3         100%[===================>]   1.06M  2.83MB/s    in 0.4s    \n",
      "\n",
      "2024-06-15 10:42:46 (2.83 MB/s) - ‘input.txt.3’ saved [1115394/1115394]\n",
      "\n"
     ]
    }
   ],
   "source": [
    "!wget https://raw.githubusercontent.com/karpathy/char-rnn/master/data/tinyshakespeare/input.txt"
   ]
  },
  {
   "cell_type": "code",
   "execution_count": 2,
   "metadata": {},
   "outputs": [],
   "source": [
    "#read to inspect\n",
    "with open('input.txt','r',encoding='utf-8') as f:\n",
    "    text = f.read()"
   ]
  },
  {
   "cell_type": "code",
   "execution_count": 3,
   "metadata": {},
   "outputs": [
    {
     "name": "stdout",
     "output_type": "stream",
     "text": [
      "length of dataset in characters 1115394\n"
     ]
    }
   ],
   "source": [
    "print(\"length of dataset in characters\",len(text))"
   ]
  },
  {
   "cell_type": "code",
   "execution_count": 4,
   "metadata": {},
   "outputs": [
    {
     "name": "stdout",
     "output_type": "stream",
     "text": [
      "First Citizen:\n",
      "Before we proceed any further, hear me speak.\n",
      "\n",
      "All:\n",
      "Speak, speak.\n",
      "\n",
      "First Citizen:\n",
      "You are all resolved rather to die than to famish?\n",
      "\n",
      "All:\n",
      "Resolved. resolved.\n",
      "\n",
      "First Citizen:\n",
      "First, you know Caius Marcius is chief enemy to the people.\n",
      "\n",
      "All:\n",
      "We know't, we know't.\n",
      "\n",
      "First Citizen:\n",
      "Let us kill him, and we'll have corn at our own price.\n",
      "Is't a verdict?\n",
      "\n",
      "All:\n",
      "No more talking on't; let it be done: away, away!\n",
      "\n",
      "Second Citizen:\n",
      "One word, good citizens.\n",
      "\n",
      "First Citizen:\n",
      "We are accounted poor citizens, the patricians good.\n",
      "What authority surfeits on would relieve us: if they\n",
      "would yield us but the superfluity, while it were\n",
      "wholesome, we might guess they relieved us humanely;\n",
      "but they think we are too dear: the leanness that\n",
      "afflicts us, the object of our misery, is as an\n",
      "inventory to particularise their abundance; our\n",
      "sufferance is a gain to them Let us revenge this with\n",
      "our pikes, ere we become rakes: for the gods know I\n",
      "speak this in hunger for bread, not in thirst for revenge.\n",
      "\n",
      "\n"
     ]
    }
   ],
   "source": [
    "#rirst 1000 characters\n",
    "print(text[:1000])"
   ]
  },
  {
   "cell_type": "code",
   "execution_count": 5,
   "metadata": {},
   "outputs": [
    {
     "name": "stdout",
     "output_type": "stream",
     "text": [
      "\n",
      " !$&',-.3:;?ABCDEFGHIJKLMNOPQRSTUVWXYZabcdefghijklmnopqrstuvwxyz\n",
      "vocab size: 65\n"
     ]
    }
   ],
   "source": [
    "#unique characters in the dataset\n",
    "chars = sorted(list(set(text)))\n",
    "vocab_size = len(chars)\n",
    "print(''.join(chars))\n",
    "print('vocab size:', vocab_size)"
   ]
  },
  {
   "cell_type": "code",
   "execution_count": 6,
   "metadata": {},
   "outputs": [],
   "source": [
    "stoi = {ch:i for i,ch in enumerate(chars)}\n",
    "itos ={i:ch for i,ch in enumerate(chars)}\n",
    "encode = lambda s: [stoi[ch] for ch in s] ##encoder\n",
    "decode = lambda l: ''.join([itos[i] for i in l]) ##decoder"
   ]
  },
  {
   "cell_type": "code",
   "execution_count": 7,
   "metadata": {},
   "outputs": [
    {
     "name": "stdout",
     "output_type": "stream",
     "text": [
      "[46, 43, 50, 50, 53]\n",
      "hello\n"
     ]
    }
   ],
   "source": [
    "print(encode('hello'))\n",
    "print(decode(encode('hello')))"
   ]
  },
  {
   "cell_type": "code",
   "execution_count": 8,
   "metadata": {},
   "outputs": [
    {
     "name": "stdout",
     "output_type": "stream",
     "text": [
      "torch.Size([1115394]) torch.int64\n"
     ]
    }
   ],
   "source": [
    "#encoding entire dataset\n",
    "import torch\n",
    "data = torch.tensor(encode(text),dtype=torch.long)\n",
    "print(data.shape,data.dtype)"
   ]
  },
  {
   "cell_type": "code",
   "execution_count": 9,
   "metadata": {},
   "outputs": [],
   "source": [
    "#train val split\n",
    "n = int(0.9*len(data))\n",
    "train_data, val_data = data[:n], data[n:]"
   ]
  },
  {
   "cell_type": "code",
   "execution_count": 10,
   "metadata": {},
   "outputs": [],
   "source": [
    "block_size = 8\n",
    "train_data = train_data[:block_size+1]"
   ]
  },
  {
   "cell_type": "code",
   "execution_count": 11,
   "metadata": {},
   "outputs": [
    {
     "name": "stdout",
     "output_type": "stream",
     "text": [
      "when context tensor([18]) target is 47\n",
      "when context tensor([18, 47]) target is 56\n",
      "when context tensor([18, 47, 56]) target is 57\n",
      "when context tensor([18, 47, 56, 57]) target is 58\n",
      "when context tensor([18, 47, 56, 57, 58]) target is 1\n",
      "when context tensor([18, 47, 56, 57, 58,  1]) target is 15\n",
      "when context tensor([18, 47, 56, 57, 58,  1, 15]) target is 47\n",
      "when context tensor([18, 47, 56, 57, 58,  1, 15, 47]) target is 58\n"
     ]
    }
   ],
   "source": [
    "x= train_data[:block_size]\n",
    "y= train_data[1:block_size+1]\n",
    "for t in range(block_size):\n",
    "    context=x[:t+1]\n",
    "    target=y[t]\n",
    "    print(f\"when context {context} target is {target}\")"
   ]
  },
  {
   "cell_type": "code",
   "execution_count": 12,
   "metadata": {},
   "outputs": [
    {
     "name": "stdout",
     "output_type": "stream",
     "text": [
      "inputs\n",
      "tensor([[18, 47, 56, 57, 58,  1, 15, 47],\n",
      "        [18, 47, 56, 57, 58,  1, 15, 47],\n",
      "        [18, 47, 56, 57, 58,  1, 15, 47],\n",
      "        [18, 47, 56, 57, 58,  1, 15, 47]])\n",
      "torch.Size([4, 8])\n",
      "targets\n",
      "tensor([[47, 56, 57, 58,  1, 15, 47, 58],\n",
      "        [47, 56, 57, 58,  1, 15, 47, 58],\n",
      "        [47, 56, 57, 58,  1, 15, 47, 58],\n",
      "        [47, 56, 57, 58,  1, 15, 47, 58]])\n",
      "torch.Size([4, 8])\n",
      "when context [18] target is 47\n",
      "when context [18, 47] target is 56\n",
      "when context [18, 47, 56] target is 57\n",
      "when context [18, 47, 56, 57] target is 58\n",
      "when context [18, 47, 56, 57, 58] target is 1\n",
      "when context [18, 47, 56, 57, 58, 1] target is 15\n",
      "when context [18, 47, 56, 57, 58, 1, 15] target is 47\n",
      "when context [18, 47, 56, 57, 58, 1, 15, 47] target is 58\n",
      "when context [18] target is 47\n",
      "when context [18, 47] target is 56\n",
      "when context [18, 47, 56] target is 57\n",
      "when context [18, 47, 56, 57] target is 58\n",
      "when context [18, 47, 56, 57, 58] target is 1\n",
      "when context [18, 47, 56, 57, 58, 1] target is 15\n",
      "when context [18, 47, 56, 57, 58, 1, 15] target is 47\n",
      "when context [18, 47, 56, 57, 58, 1, 15, 47] target is 58\n",
      "when context [18] target is 47\n",
      "when context [18, 47] target is 56\n",
      "when context [18, 47, 56] target is 57\n",
      "when context [18, 47, 56, 57] target is 58\n",
      "when context [18, 47, 56, 57, 58] target is 1\n",
      "when context [18, 47, 56, 57, 58, 1] target is 15\n",
      "when context [18, 47, 56, 57, 58, 1, 15] target is 47\n",
      "when context [18, 47, 56, 57, 58, 1, 15, 47] target is 58\n",
      "when context [18] target is 47\n",
      "when context [18, 47] target is 56\n",
      "when context [18, 47, 56] target is 57\n",
      "when context [18, 47, 56, 57] target is 58\n",
      "when context [18, 47, 56, 57, 58] target is 1\n",
      "when context [18, 47, 56, 57, 58, 1] target is 15\n",
      "when context [18, 47, 56, 57, 58, 1, 15] target is 47\n",
      "when context [18, 47, 56, 57, 58, 1, 15, 47] target is 58\n"
     ]
    }
   ],
   "source": [
    "torch.manual_seed(1337)\n",
    "batch_size = 4 \n",
    "block_size = 8\n",
    "\n",
    "def get_batch(split):\n",
    "    data = train_data if split == 'train' else val_data\n",
    "    ix = torch.randint(len(data)-block_size,(batch_size,))\n",
    "    x = torch.stack([data[i:i+block_size] for i in ix])\n",
    "    y= torch.stack([data[i+1:i+block_size+1] for i in ix])\n",
    "    return x,y\n",
    "\n",
    "xb,yb= get_batch('train')\n",
    "print('inputs')\n",
    "print(xb)\n",
    "print(xb.shape)\n",
    "print('targets')\n",
    "print(yb)\n",
    "print(yb.shape)\n",
    "\n",
    "for b in range(batch_size):\n",
    "    for t in range(block_size):\n",
    "        context = xb[b,:t+1]\n",
    "        target = yb[b,t]\n",
    "        print(f\"when context {context.tolist()} target is {target}\")"
   ]
  },
  {
   "cell_type": "code",
   "execution_count": 13,
   "metadata": {},
   "outputs": [
    {
     "name": "stdout",
     "output_type": "stream",
     "text": [
      "tensor([[18, 47, 56, 57, 58,  1, 15, 47],\n",
      "        [18, 47, 56, 57, 58,  1, 15, 47],\n",
      "        [18, 47, 56, 57, 58,  1, 15, 47],\n",
      "        [18, 47, 56, 57, 58,  1, 15, 47]])\n"
     ]
    }
   ],
   "source": [
    "print(xb)"
   ]
  },
  {
   "cell_type": "code",
   "execution_count": 14,
   "metadata": {},
   "outputs": [
    {
     "name": "stdout",
     "output_type": "stream",
     "text": [
      "torch.Size([32, 65])\n",
      "tensor(4.4032, grad_fn=<NllLossBackward0>)\n",
      "\n",
      "Sr?qP-QWktXoL&jLDJgOLVz'RIoDqHdhsV&vLLxatjscMpwLERSPyao.qfzs$Ys$zF-w,;eEkzxjgCKFChs!iWW.ObzDnxA Ms$3\n"
     ]
    }
   ],
   "source": [
    "import torch\n",
    "import torch.nn as nn\n",
    "import torch.nn.functional as F\n",
    "torch.manual_seed(1337)\n",
    "\n",
    "class BigramLanguageModel(nn.Module):\n",
    "    def __init__(self,vocab_size):\n",
    "        super().__init__()\n",
    "        #each token direclty reads off the logits for the next token from a lookup table \n",
    "        self.token_embedding_table = nn.Embedding(vocab_size,vocab_size)\n",
    "\n",
    "    def forward(self,idx,targets =None):\n",
    "        #idx and targets are both [block_size,batch_size]\n",
    "        logits = self.token_embedding_table(idx)  # [block_size,batch_size,vocab_size] (B,T,C)\n",
    "        if targets is None:\n",
    "            loss=None\n",
    "        else:\n",
    "            B,T,C = logits.shape\n",
    "            logits = logits.view(B*T,C)\n",
    "            targets = targets.view(B*T)\n",
    "\n",
    "            loss = F.cross_entropy(logits,targets)\n",
    "        return logits, loss\n",
    "    \n",
    "    def generate(self, idx, max_new_tokens):\n",
    "        # idx is (B, T) array of indices in the current context\n",
    "        for _ in range(max_new_tokens):\n",
    "            # get the predictions\n",
    "            logits, loss = self(idx)\n",
    "            # focus only on the last time step\n",
    "            logits = logits[:, -1, :] # becomes (B, C)\n",
    "            # apply softmax to get probabilities\n",
    "            probs = F.softmax(logits, dim=-1) # (B, C)\n",
    "            # sample from the distribution\n",
    "            idx_next = torch.multinomial(probs, num_samples=1) # (B, 1)\n",
    "            # append sampled index to the running sequence\n",
    "            idx = torch.cat((idx, idx_next), dim=1) # (B, T+1)\n",
    "        return idx\n",
    "    \n",
    "\n",
    "m = BigramLanguageModel(vocab_size)\n",
    "logits,loss = m(xb,yb)\n",
    "print(logits.shape)\n",
    "print(loss)\n",
    "print(decode(m.generate(idx = torch.zeros((1,1),dtype=torch.long),max_new_tokens=100)[0].tolist()))"
   ]
  },
  {
   "cell_type": "code",
   "execution_count": 15,
   "metadata": {},
   "outputs": [],
   "source": [
    "#create an optimizer\n",
    "optimizer = torch.optim.AdamW(m.parameters(),lr = 1e-3)"
   ]
  },
  {
   "cell_type": "code",
   "execution_count": 16,
   "metadata": {},
   "outputs": [
    {
     "name": "stdout",
     "output_type": "stream",
     "text": [
      "0.1807720959186554\n"
     ]
    }
   ],
   "source": [
    "batch_size = 32\n",
    "for steps in range(10000):\n",
    "    #sample a batch of data\n",
    "    xb,yb = get_batch('train')\n",
    "\n",
    "    #evalute the loss\n",
    "    logits,loss = m(xb,yb)\n",
    "    optimizer.zero_grad(set_to_none=True)\n",
    "    loss.backward()\n",
    "    optimizer.step()\n",
    "print(loss.item())"
   ]
  },
  {
   "cell_type": "code",
   "execution_count": 17,
   "metadata": {},
   "outputs": [
    {
     "name": "stdout",
     "output_type": "stream",
     "text": [
      "\n",
      "pyet Cit Cit Cit Cit Cirst Cit Cit CitKhZXY,rst Cit CiKoduit Cirst Cit Cirst Cirst Cit Cirst Cirst C\n"
     ]
    }
   ],
   "source": [
    "print(decode(m.generate(idx = torch.zeros((1,1),dtype=torch.long),max_new_tokens=100)[0].tolist()))"
   ]
  },
  {
   "cell_type": "markdown",
   "metadata": {},
   "source": [
    "### The mathematical trick of self attention"
   ]
  },
  {
   "cell_type": "code",
   "execution_count": 18,
   "metadata": {},
   "outputs": [
    {
     "data": {
      "text/plain": [
       "torch.Size([4, 8, 2])"
      ]
     },
     "execution_count": 18,
     "metadata": {},
     "output_type": "execute_result"
    }
   ],
   "source": [
    "torch.manual_seed(1337)\n",
    "B,T,C = 4,8,2 #batch, time, channels\n",
    "x = torch.randn(B,T,C)\n",
    "x.shape\n"
   ]
  },
  {
   "cell_type": "code",
   "execution_count": 19,
   "metadata": {},
   "outputs": [],
   "source": [
    "xbow = torch.zeros((B,T,C))\n",
    "for b in range(B):\n",
    "    for t in range(T):\n",
    "        xprev =x[b, :t+1]  #(t,C)\n",
    "        xbow[b,t] = torch.mean(xprev,dim=0) # (C)"
   ]
  },
  {
   "cell_type": "code",
   "execution_count": 20,
   "metadata": {},
   "outputs": [
    {
     "data": {
      "text/plain": [
       "tensor([[ 0.1808, -0.0700],\n",
       "        [-0.3596, -0.9152],\n",
       "        [ 0.6258,  0.0255],\n",
       "        [ 0.9545,  0.0643],\n",
       "        [ 0.3612,  1.1679],\n",
       "        [-1.3499, -0.5102],\n",
       "        [ 0.2360, -0.2398],\n",
       "        [-0.9211,  1.5433]])"
      ]
     },
     "execution_count": 20,
     "metadata": {},
     "output_type": "execute_result"
    }
   ],
   "source": [
    "x[0]"
   ]
  },
  {
   "cell_type": "code",
   "execution_count": 21,
   "metadata": {},
   "outputs": [
    {
     "data": {
      "text/plain": [
       "tensor([[ 0.1808, -0.0700],\n",
       "        [-0.0894, -0.4926],\n",
       "        [ 0.1490, -0.3199],\n",
       "        [ 0.3504, -0.2238],\n",
       "        [ 0.3525,  0.0545],\n",
       "        [ 0.0688, -0.0396],\n",
       "        [ 0.0927, -0.0682],\n",
       "        [-0.0341,  0.1332]])"
      ]
     },
     "execution_count": 21,
     "metadata": {},
     "output_type": "execute_result"
    }
   ],
   "source": [
    "xbow[0]"
   ]
  },
  {
   "cell_type": "code",
   "execution_count": 22,
   "metadata": {},
   "outputs": [
    {
     "data": {
      "text/plain": [
       "False"
      ]
     },
     "execution_count": 22,
     "metadata": {},
     "output_type": "execute_result"
    }
   ],
   "source": [
    "# version : 2\n",
    "wei = torch.tril(torch.ones(T,T))\n",
    "wei = wei/wei.sum(dim=1,keepdim=True)\n",
    "xbow2 = wei @ x # (T,T) @ (B,T,C) ----> (B,T,T) @ (B,T,C) ----> (B,T,C)\n",
    "torch.allclose(xbow,xbow2)"
   ]
  },
  {
   "cell_type": "code",
   "execution_count": 23,
   "metadata": {},
   "outputs": [
    {
     "data": {
      "text/plain": [
       "(tensor([[ 0.1808, -0.0700],\n",
       "         [-0.0894, -0.4926],\n",
       "         [ 0.1490, -0.3199],\n",
       "         [ 0.3504, -0.2238],\n",
       "         [ 0.3525,  0.0545],\n",
       "         [ 0.0688, -0.0396],\n",
       "         [ 0.0927, -0.0682],\n",
       "         [-0.0341,  0.1332]]),\n",
       " tensor([[ 0.1808, -0.0700],\n",
       "         [-0.0894, -0.4926],\n",
       "         [ 0.1490, -0.3199],\n",
       "         [ 0.3504, -0.2238],\n",
       "         [ 0.3525,  0.0545],\n",
       "         [ 0.0688, -0.0396],\n",
       "         [ 0.0927, -0.0682],\n",
       "         [-0.0341,  0.1332]]))"
      ]
     },
     "execution_count": 23,
     "metadata": {},
     "output_type": "execute_result"
    }
   ],
   "source": [
    "xbow[0],xbow2[0]"
   ]
  },
  {
   "cell_type": "code",
   "execution_count": 24,
   "metadata": {},
   "outputs": [
    {
     "name": "stdout",
     "output_type": "stream",
     "text": [
      "Before softmax \n",
      " tensor([[0., -inf, -inf, -inf, -inf, -inf, -inf, -inf],\n",
      "        [0., 0., -inf, -inf, -inf, -inf, -inf, -inf],\n",
      "        [0., 0., 0., -inf, -inf, -inf, -inf, -inf],\n",
      "        [0., 0., 0., 0., -inf, -inf, -inf, -inf],\n",
      "        [0., 0., 0., 0., 0., -inf, -inf, -inf],\n",
      "        [0., 0., 0., 0., 0., 0., -inf, -inf],\n",
      "        [0., 0., 0., 0., 0., 0., 0., -inf],\n",
      "        [0., 0., 0., 0., 0., 0., 0., 0.]])\n"
     ]
    }
   ],
   "source": [
    "# version:3 , Softmax\n",
    "tril = torch.tril(torch.ones(T,T))\n",
    "wei = torch.zeros((T,T))\n",
    "wei = wei.masked_fill(tril==0, float('-inf'))\n",
    "print(\"Before softmax \\n\",wei)\n",
    "wei = F.softmax(wei, dim = -1)\n",
    "xbow3 = wei @ x"
   ]
  },
  {
   "cell_type": "code",
   "execution_count": 25,
   "metadata": {},
   "outputs": [
    {
     "name": "stdout",
     "output_type": "stream",
     "text": [
      "tensor([[1.0000, 0.0000, 0.0000, 0.0000, 0.0000, 0.0000, 0.0000, 0.0000],\n",
      "        [0.5000, 0.5000, 0.0000, 0.0000, 0.0000, 0.0000, 0.0000, 0.0000],\n",
      "        [0.3333, 0.3333, 0.3333, 0.0000, 0.0000, 0.0000, 0.0000, 0.0000],\n",
      "        [0.2500, 0.2500, 0.2500, 0.2500, 0.0000, 0.0000, 0.0000, 0.0000],\n",
      "        [0.2000, 0.2000, 0.2000, 0.2000, 0.2000, 0.0000, 0.0000, 0.0000],\n",
      "        [0.1667, 0.1667, 0.1667, 0.1667, 0.1667, 0.1667, 0.0000, 0.0000],\n",
      "        [0.1429, 0.1429, 0.1429, 0.1429, 0.1429, 0.1429, 0.1429, 0.0000],\n",
      "        [0.1250, 0.1250, 0.1250, 0.1250, 0.1250, 0.1250, 0.1250, 0.1250]])\n",
      "tensor([[ 0.1808, -0.0700],\n",
      "        [-0.0894, -0.4926],\n",
      "        [ 0.1490, -0.3199],\n",
      "        [ 0.3504, -0.2238],\n",
      "        [ 0.3525,  0.0545],\n",
      "        [ 0.0688, -0.0396],\n",
      "        [ 0.0927, -0.0682],\n",
      "        [-0.0341,  0.1332]])\n"
     ]
    }
   ],
   "source": [
    "print(wei)\n",
    "print(xbow3[0])\n"
   ]
  },
  {
   "cell_type": "code",
   "execution_count": 26,
   "metadata": {},
   "outputs": [
    {
     "data": {
      "text/plain": [
       "tensor([[1., 0., 0.],\n",
       "        [1., 1., 0.],\n",
       "        [1., 1., 1.]])"
      ]
     },
     "execution_count": 26,
     "metadata": {},
     "output_type": "execute_result"
    }
   ],
   "source": [
    "torch.tril(a = torch.ones(3,3))"
   ]
  },
  {
   "cell_type": "code",
   "execution_count": 27,
   "metadata": {},
   "outputs": [
    {
     "name": "stdout",
     "output_type": "stream",
     "text": [
      "a : \n",
      "tensor([[0.3333, 0.0000, 0.0000],\n",
      "        [0.3333, 0.5000, 0.0000],\n",
      "        [0.3333, 0.5000, 1.0000]])\n",
      "b : \n",
      "tensor([[2., 7.],\n",
      "        [6., 4.],\n",
      "        [6., 5.]])\n",
      "c : \n",
      "tensor([[0.6667, 2.3333],\n",
      "        [3.6667, 4.3333],\n",
      "        [9.6667, 9.3333]])\n"
     ]
    }
   ],
   "source": [
    "torch.manual_seed(42)\n",
    "a = torch.tril(torch.ones(3,3))\n",
    "a = a/torch.sum(a, dim=0, keepdim=True)\n",
    "b = torch.randint(0,10,(3,2)).float()\n",
    "c = a @ b\n",
    "\n",
    "print(\"a : \")\n",
    "print(a)\n",
    "print(\"b : \")\n",
    "print(b)\n",
    "print(\"c : \")\n",
    "print(c)"
   ]
  },
  {
   "cell_type": "code",
   "execution_count": 28,
   "metadata": {},
   "outputs": [
    {
     "data": {
      "text/plain": [
       "Embedding(10, 3)"
      ]
     },
     "execution_count": 28,
     "metadata": {},
     "output_type": "execute_result"
    }
   ],
   "source": [
    "nn.Embedding(10,3)"
   ]
  },
  {
   "cell_type": "code",
   "execution_count": 33,
   "metadata": {},
   "outputs": [
    {
     "name": "stdout",
     "output_type": "stream",
     "text": [
      "Before softmax \n",
      " tensor([[[ 8.8887e-01,        -inf,        -inf,        -inf,        -inf,\n",
      "                 -inf,        -inf,        -inf],\n",
      "         [-1.1939e+00, -2.5734e-03,        -inf,        -inf,        -inf,\n",
      "                 -inf,        -inf,        -inf],\n",
      "         [ 6.2490e-01, -9.9382e-01,  7.1121e-01,        -inf,        -inf,\n",
      "                 -inf,        -inf,        -inf],\n",
      "         [-3.6508e+00, -1.5804e+00, -1.4319e+00, -9.4028e-01,        -inf,\n",
      "                 -inf,        -inf,        -inf],\n",
      "         [-1.3706e+00,  8.1821e-01, -2.5999e+00, -8.9379e-02,  1.2676e+00,\n",
      "                 -inf,        -inf,        -inf],\n",
      "         [-6.8650e-01, -5.1722e-01,  3.0751e-01, -2.6841e+00, -2.0892e-01,\n",
      "          -1.0684e+00,        -inf,        -inf],\n",
      "         [-3.2220e+00, -6.2742e-02,  1.1689e+00,  1.7562e+00, -1.2834e-01,\n",
      "          -2.6596e-01,  3.6047e+00,        -inf],\n",
      "         [ 1.5367e+00,  1.4740e+00, -4.7280e-01, -9.1231e-01,  1.1701e-01,\n",
      "          -1.4669e-01,  3.1146e+00,  3.1892e+00]],\n",
      "\n",
      "        [[-1.3312e+00,        -inf,        -inf,        -inf,        -inf,\n",
      "                 -inf,        -inf,        -inf],\n",
      "         [-8.8355e-01, -1.5264e+00,        -inf,        -inf,        -inf,\n",
      "                 -inf,        -inf,        -inf],\n",
      "         [ 3.0757e-01,  5.8814e-01,  9.4633e-01,        -inf,        -inf,\n",
      "                 -inf,        -inf,        -inf],\n",
      "         [-4.4856e-02, -5.0285e-01, -1.0439e+00, -4.1809e-01,        -inf,\n",
      "                 -inf,        -inf,        -inf],\n",
      "         [ 1.0866e+00, -5.3322e-02, -6.5477e-01,  9.3538e-01,  2.0651e+00,\n",
      "                 -inf,        -inf,        -inf],\n",
      "         [ 1.3122e-02, -5.0831e-01,  1.1095e+00,  2.5290e-01, -2.0323e+00,\n",
      "           1.7736e+00,        -inf,        -inf],\n",
      "         [-7.0439e-01, -8.9100e-01, -1.1974e+00, -2.4686e+00,  7.2186e-01,\n",
      "          -1.3674e+00, -5.6903e-01,        -inf],\n",
      "         [ 4.3623e-01,  1.1386e-01, -6.6918e-02,  1.0632e+00, -9.7597e-01,\n",
      "          -8.6914e-01, -1.0231e+00,  9.2880e-01]],\n",
      "\n",
      "        [[-8.1583e-01,        -inf,        -inf,        -inf,        -inf,\n",
      "                 -inf,        -inf,        -inf],\n",
      "         [-6.6866e-01,  2.0065e+00,        -inf,        -inf,        -inf,\n",
      "                 -inf,        -inf,        -inf],\n",
      "         [-1.1900e+00,  7.6522e-01, -9.2022e-01,        -inf,        -inf,\n",
      "                 -inf,        -inf,        -inf],\n",
      "         [-1.3013e-01, -1.2772e+00,  1.9359e+00, -1.5115e+00,        -inf,\n",
      "                 -inf,        -inf,        -inf],\n",
      "         [-1.2259e+00,  2.6002e+00, -5.8705e-01, -3.8609e+00,  2.1679e+00,\n",
      "                 -inf,        -inf,        -inf],\n",
      "         [ 4.2109e-01, -5.6966e-01, -1.1640e-01, -1.1095e+00,  6.5277e-01,\n",
      "           1.2020e+00,        -inf,        -inf],\n",
      "         [-2.1095e+00,  2.4892e+00, -1.0370e+00, -2.7961e+00,  1.1729e+00,\n",
      "          -5.5592e-01,  1.1908e+00,        -inf],\n",
      "         [ 8.0925e-01, -6.5069e-01, -4.9424e-01, -5.4570e-01,  7.2209e-01,\n",
      "           1.6695e+00, -7.0210e-01,  1.0634e-01]],\n",
      "\n",
      "        [[ 1.3181e+00,        -inf,        -inf,        -inf,        -inf,\n",
      "                 -inf,        -inf,        -inf],\n",
      "         [-3.8758e-01, -8.0056e-01,        -inf,        -inf,        -inf,\n",
      "                 -inf,        -inf,        -inf],\n",
      "         [-1.2394e+00, -1.3590e+00,  3.8332e-01,        -inf,        -inf,\n",
      "                 -inf,        -inf,        -inf],\n",
      "         [-3.8873e-01,  3.4340e-01, -2.3820e-01, -9.2693e-01,        -inf,\n",
      "                 -inf,        -inf,        -inf],\n",
      "         [-5.3667e-01, -1.7341e-02,  1.6498e+00,  1.8145e+00,  1.4132e+00,\n",
      "                 -inf,        -inf,        -inf],\n",
      "         [-4.2634e-01, -5.0720e-01, -2.7136e-02,  3.0291e-01,  7.6902e-01,\n",
      "           2.8963e-02,        -inf,        -inf],\n",
      "         [ 2.6329e-01,  5.3009e-01,  6.4002e-01,  4.0267e-01, -1.4764e+00,\n",
      "           1.7440e+00,  3.4568e-01,        -inf],\n",
      "         [ 6.2635e-01,  2.6425e-01, -3.0489e-01,  3.3266e-01, -1.9627e+00,\n",
      "          -1.3429e+00, -8.9013e-01, -2.4462e-01]]],\n",
      "       grad_fn=<MaskedFillBackward0>)\n"
     ]
    },
    {
     "data": {
      "text/plain": [
       "torch.Size([4, 8, 16])"
      ]
     },
     "execution_count": 33,
     "metadata": {},
     "output_type": "execute_result"
    }
   ],
   "source": [
    "# version:4 , self attention\n",
    "B,T,C = 4,8,32\n",
    "x =torch.randn(B,T,C)\n",
    "\n",
    "#implementing single head self attension\n",
    "head_size = 16\n",
    "key = nn.Linear(C, head_size, bias=False)\n",
    "query = nn.Linear(C, head_size, bias= False)\n",
    "value = nn.Linear(C, head_size, bias=False)\n",
    "k= key(x)\n",
    "q = query(x)\n",
    "\n",
    "wei = q @ k.transpose(-2,-1)  # (B,T, 16) @ (B,16,T) ---> (B,T,T)\n",
    "\n",
    "tril = torch.tril(torch.ones(T,T))\n",
    "# wei = torch.zeros((T,T))\n",
    "wei = wei.masked_fill(tril==0, float('-inf'))\n",
    "print(\"Before softmax \\n\",wei)\n",
    "wei = F.softmax(wei, dim = -1)\n",
    "\n",
    "v = value(x)\n",
    "out = wei @ v\n",
    "\n",
    "out.shape"
   ]
  },
  {
   "cell_type": "markdown",
   "metadata": {},
   "source": [
    "Notes:\n",
    "- Attention is a **communication mechanism**. Can be seen as nodes in a directed graph looking at each other and aggregating information with a weighted sum from all nodes that point to them, with data-dependent weights.\n",
    "- There is no notion of space. Attention simply acts over a set of vectors. This is why we need to positionally encode tokens.\n",
    "- Each example across batch dimension is of course processed completely independently and never \"talk\" to each other\n",
    "- In an \"encoder\" attention block just delete the single line that does masking with `tril`, allowing all tokens to communicate. This block here is called a \"decoder\" attention block because it has triangular masking, and is usually used in autoregressive settings, like language modeling.\n",
    "- \"self-attention\" just means that the keys and values are produced from the same source as queries. In \"cross-attention\", the queries still get produced from x, but the keys and values come from some other, external source (e.g. an encoder module)\n",
    "- \"Scaled\" attention additional divides `wei` by 1/sqrt(head_size). This makes it so when input Q,K are unit variance, wei will be unit variance too and Softmax will stay diffuse and not saturate too much. Illustration below"
   ]
  },
  {
   "cell_type": "code",
   "execution_count": 34,
   "metadata": {},
   "outputs": [],
   "source": [
    "q = torch.randn(B,T,head_size)\n",
    "k= torch.randn(B,T,head_size)\n",
    "wei = q @ k.transpose(-2,-1) * head_size**-0.5"
   ]
  },
  {
   "cell_type": "code",
   "execution_count": 35,
   "metadata": {},
   "outputs": [
    {
     "data": {
      "text/plain": [
       "tensor(0.9752)"
      ]
     },
     "execution_count": 35,
     "metadata": {},
     "output_type": "execute_result"
    }
   ],
   "source": [
    "k.var()\n"
   ]
  },
  {
   "cell_type": "code",
   "execution_count": 36,
   "metadata": {},
   "outputs": [
    {
     "data": {
      "text/plain": [
       "tensor(1.0193)"
      ]
     },
     "execution_count": 36,
     "metadata": {},
     "output_type": "execute_result"
    }
   ],
   "source": [
    "q.var()\n"
   ]
  },
  {
   "cell_type": "code",
   "execution_count": 37,
   "metadata": {},
   "outputs": [
    {
     "data": {
      "text/plain": [
       "tensor(1.0127)"
      ]
     },
     "execution_count": 37,
     "metadata": {},
     "output_type": "execute_result"
    }
   ],
   "source": [
    "wei.var()"
   ]
  },
  {
   "cell_type": "code",
   "execution_count": null,
   "metadata": {},
   "outputs": [],
   "source": []
  }
 ],
 "metadata": {
  "kernelspec": {
   "display_name": "venv",
   "language": "python",
   "name": "python3"
  },
  "language_info": {
   "codemirror_mode": {
    "name": "ipython",
    "version": 3
   },
   "file_extension": ".py",
   "mimetype": "text/x-python",
   "name": "python",
   "nbconvert_exporter": "python",
   "pygments_lexer": "ipython3",
   "version": "3.10.14"
  }
 },
 "nbformat": 4,
 "nbformat_minor": 2
}
